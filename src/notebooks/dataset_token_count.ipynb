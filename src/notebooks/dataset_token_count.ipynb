{
 "cells": [
  {
   "attachments": {},
   "cell_type": "markdown",
   "metadata": {},
   "source": [
    "# Notebook doesn't work because of path issue, can run same code in interactive prompt with DOE as the base directory and then it will run fine"
   ]
  },
  {
   "cell_type": "code",
   "execution_count": 1,
   "metadata": {},
   "outputs": [
    {
     "name": "stderr",
     "output_type": "stream",
     "text": [
      "/home/ketkar/Public/Python_programs/DOE/env/lib64/python3.11/site-packages/tqdm/auto.py:21: TqdmWarning: IProgress not found. Please update jupyter and ipywidgets. See https://ipywidgets.readthedocs.io/en/stable/user_install.html\n",
      "  from .autonotebook import tqdm as notebook_tqdm\n"
     ]
    }
   ],
   "source": [
    "from datasets import load_from_disk\n",
    "from datasets import disable_caching\n",
    "import os\n",
    "import pandas as pd\n",
    "from tqdm import tqdm\n",
    "import sys\n",
    "sys.path.append(\"/home/ketkar/Public/Python_programs/DOE\")\n",
    "from src.models.prepare_tokenizer import get_tokenizer\n",
    "disable_caching()"
   ]
  },
  {
   "cell_type": "code",
   "execution_count": 2,
   "metadata": {},
   "outputs": [],
   "source": [
    "BASE_PATH = \"/data/Datasets-LLMS\"\n",
    "DATASET_FILENAME = \"CPA_DB_TEXT\""
   ]
  },
  {
   "cell_type": "code",
   "execution_count": 3,
   "metadata": {},
   "outputs": [],
   "source": [
    "dataset = load_from_disk(os.path.join(BASE_PATH, DATASET_FILENAME))"
   ]
  },
  {
   "cell_type": "code",
   "execution_count": 4,
   "metadata": {},
   "outputs": [],
   "source": [
    "tokenizer = get_tokenizer(tokenizer_path=\"/data/LLM-weights/Phi-3-mini-128k-instruct\")"
   ]
  },
  {
   "cell_type": "code",
   "execution_count": 5,
   "metadata": {},
   "outputs": [
    {
     "data": {
      "text/plain": [
       "{'id': 3,\n",
       " 'text': \" unless prevailing facts and circumstances dictate otherwise, this action is required. If a standard provides that a procedure or action is one that the member “should consider,” the consideration of the procedure or action is required, whereas carrying out the speci\\ue03ded procedure or action is not. The professional requirements of the standard are to be understood and applied in the context of the explanatory material that provides guidance for their application. 9. The “Application” section and other explanatory material provide further explanation of the requirements and guidance for carrying them out. 10. The words may, might, and could, among others, are used to describe actions and procedures that are recommended but not required. Although such guidance does not, in itself, impose a requirement, it is relevant to the proper application of the requirements. 11. The standard includes, under the heading “De\\ue03dnitions,” a description o\\ue024 the meanings attributed to certain terms for purposes of the standard. These are provided to assist with the consistent application and interpretation of the standard and are not intended to override de\\ue03dnitions that may be established \\ue024or other purposes, whether by law or regulation. 12. For purposes of the standard, the following terms have the meanings attributed: Personal fnancial planning services. The process o\\ue024 identi\\ue024ying personal \\ue03dnancial goals and resources, designing \\ue03dnancial strategies, and making personalized recommendations that, when implemented, assist the client in achieving these goals. (Ref: par. 3) Personal fnancial planning engagement. An engagement in which a member provides PFP services and the standard applies. (Ref: par. 3-4) Implementation engagement. A PFP engagement that involves assisting the client in taking action on recommendations developed during the PFP engagement. Monitoring engagement. A PFP engagement that involves tracking and communicating the client’s progress in achieving established PFP goals. Updating engagement. A PFP engagement that involves revising the client’s existing \\ue03dnancial plan and \\ue03dnancial planning recommendations as the member and client agree upon. Personalized recommendation. Financial advice directing a client to take action based on the client's personal \\ue03dnancial in\\ue024ormation disclosed to the member. (Ref: par. 3) De\\ue03dnitions 5 16. The member should consider applicable interpretive publications when providing PFP services. (Ref: par. A5) Independence and PFP services 17. If PFP services are performed for a client for which the member or member’s \\ue03drm also performs an “attest engagement” (AICPA, Professional Standards, ET sec. 0.400.04), the member should meet the requirements of the “Nonattest Services” subtopic (AICPA, Professional Standards, ET sec. 1.295) under the “Independence Rule” (AICPA, Professional Standards, ET sec. 1.200.001), so as not to impair the member’s independence with respect to the client. Requirements General professional responsibilities 13. The member should read the entire standard, including its application and other explanatory material, to understand its objective and apply its requirements properly. 14. The proper application of the requirements established by the standard is expected to provide a sufcient basis \\ue024or the achievement o\\ue024 the objective. However, because circumstances vary widely and all such circumstances cannot be anticipated, the member should consider whether, due to the existence of particular matters or circumstances, procedures in addition to those required by the standard are needed to meet the stated objective. 15. The member must comply with each requirement of the standard unless, a. in the circumstances of the engagement, the requirement is not relevant because it is conditional, and the condition does not exist. b. the member judges it necessary to depart from a requirement. In such circumstances, the member should perform alternative procedures to achieve the intent of that requirement and document the justi\\ue03dcation for that departure. 6 Responsibilities of members in PFP engagements 18. The member should comply with relevant ethical requirements. (Ref: par. A7) 19. The member should possess a level of knowledge of PFP principles and theory, and a level of skill in the application of such principles, that will enable him or her to (Ref: par. A\"}"
      ]
     },
     "execution_count": 5,
     "metadata": {},
     "output_type": "execute_result"
    }
   ],
   "source": [
    "dataset[2]"
   ]
  },
  {
   "cell_type": "code",
   "execution_count": 6,
   "metadata": {},
   "outputs": [],
   "source": [
    "token_count_df = {\"id\": [], \"text\": [], \"token_count\": []}"
   ]
  },
  {
   "cell_type": "code",
   "execution_count": 7,
   "metadata": {},
   "outputs": [
    {
     "name": "stderr",
     "output_type": "stream",
     "text": [
      "100%|██████████| 165923/165923 [03:22<00:00, 820.09it/s] \n"
     ]
    }
   ],
   "source": [
    "for example in tqdm(dataset):\n",
    "    token_count_df[\"id\"].append(example[\"id\"])\n",
    "    token_count_df[\"text\"].append(example[\"text\"])\n",
    "    tokenized_text = tokenizer(\n",
    "        example[\"text\"],\n",
    "        add_special_tokens=True\n",
    "    )\n",
    "    token_count_df[\"token_count\"].append(len(tokenized_text[\"input_ids\"]))"
   ]
  },
  {
   "cell_type": "code",
   "execution_count": 8,
   "metadata": {},
   "outputs": [],
   "source": [
    "token_count_df = pd.DataFrame(token_count_df)"
   ]
  },
  {
   "cell_type": "code",
   "execution_count": 9,
   "metadata": {},
   "outputs": [
    {
     "data": {
      "text/html": [
       "<div>\n",
       "<style scoped>\n",
       "    .dataframe tbody tr th:only-of-type {\n",
       "        vertical-align: middle;\n",
       "    }\n",
       "\n",
       "    .dataframe tbody tr th {\n",
       "        vertical-align: top;\n",
       "    }\n",
       "\n",
       "    .dataframe thead th {\n",
       "        text-align: right;\n",
       "    }\n",
       "</style>\n",
       "<table border=\"1\" class=\"dataframe\">\n",
       "  <thead>\n",
       "    <tr style=\"text-align: right;\">\n",
       "      <th></th>\n",
       "      <th>id</th>\n",
       "      <th>text</th>\n",
       "      <th>token_count</th>\n",
       "    </tr>\n",
       "  </thead>\n",
       "  <tbody>\n",
       "    <tr>\n",
       "      <th>160351</th>\n",
       "      <td>160352</td>\n",
       "      <td>or the city of Philadelphia which has adopted...</td>\n",
       "      <td>986</td>\n",
       "    </tr>\n",
       "    <tr>\n",
       "      <th>6074</th>\n",
       "      <td>6075</td>\n",
       "      <td>to the number of employees of a provider or f...</td>\n",
       "      <td>1048</td>\n",
       "    </tr>\n",
       "    <tr>\n",
       "      <th>4305</th>\n",
       "      <td>4306</td>\n",
       "      <td>for June 2022 Period for Compounding Annual S...</td>\n",
       "      <td>1223</td>\n",
       "    </tr>\n",
       "    <tr>\n",
       "      <th>125283</th>\n",
       "      <td>125284</td>\n",
       "      <td>other manner that discloses the dollar amount...</td>\n",
       "      <td>1211</td>\n",
       "    </tr>\n",
       "    <tr>\n",
       "      <th>54391</th>\n",
       "      <td>54392</td>\n",
       "      <td>banks, insurance companies, and other taxpaye...</td>\n",
       "      <td>1124</td>\n",
       "    </tr>\n",
       "  </tbody>\n",
       "</table>\n",
       "</div>"
      ],
      "text/plain": [
       "            id                                               text  token_count\n",
       "160351  160352   or the city of Philadelphia which has adopted...          986\n",
       "6074      6075   to the number of employees of a provider or f...         1048\n",
       "4305      4306   for June 2022 Period for Compounding Annual S...         1223\n",
       "125283  125284   other manner that discloses the dollar amount...         1211\n",
       "54391    54392   banks, insurance companies, and other taxpaye...         1124"
      ]
     },
     "execution_count": 9,
     "metadata": {},
     "output_type": "execute_result"
    }
   ],
   "source": [
    "token_count_df.sample(5)"
   ]
  },
  {
   "cell_type": "code",
   "execution_count": 11,
   "metadata": {},
   "outputs": [
    {
     "data": {
      "text/html": [
       "<div>\n",
       "<style scoped>\n",
       "    .dataframe tbody tr th:only-of-type {\n",
       "        vertical-align: middle;\n",
       "    }\n",
       "\n",
       "    .dataframe tbody tr th {\n",
       "        vertical-align: top;\n",
       "    }\n",
       "\n",
       "    .dataframe thead th {\n",
       "        text-align: right;\n",
       "    }\n",
       "</style>\n",
       "<table border=\"1\" class=\"dataframe\">\n",
       "  <thead>\n",
       "    <tr style=\"text-align: right;\">\n",
       "      <th></th>\n",
       "      <th>id</th>\n",
       "      <th>token_count</th>\n",
       "    </tr>\n",
       "  </thead>\n",
       "  <tbody>\n",
       "    <tr>\n",
       "      <th>count</th>\n",
       "      <td>165923.000000</td>\n",
       "      <td>165923.000000</td>\n",
       "    </tr>\n",
       "    <tr>\n",
       "      <th>mean</th>\n",
       "      <td>82962.000000</td>\n",
       "      <td>925.262483</td>\n",
       "    </tr>\n",
       "    <tr>\n",
       "      <th>std</th>\n",
       "      <td>47897.988695</td>\n",
       "      <td>370.355070</td>\n",
       "    </tr>\n",
       "    <tr>\n",
       "      <th>min</th>\n",
       "      <td>1.000000</td>\n",
       "      <td>3.000000</td>\n",
       "    </tr>\n",
       "    <tr>\n",
       "      <th>25%</th>\n",
       "      <td>41481.500000</td>\n",
       "      <td>702.000000</td>\n",
       "    </tr>\n",
       "    <tr>\n",
       "      <th>50%</th>\n",
       "      <td>82962.000000</td>\n",
       "      <td>1061.000000</td>\n",
       "    </tr>\n",
       "    <tr>\n",
       "      <th>75%</th>\n",
       "      <td>124442.500000</td>\n",
       "      <td>1129.000000</td>\n",
       "    </tr>\n",
       "    <tr>\n",
       "      <th>max</th>\n",
       "      <td>165923.000000</td>\n",
       "      <td>3199.000000</td>\n",
       "    </tr>\n",
       "  </tbody>\n",
       "</table>\n",
       "</div>"
      ],
      "text/plain": [
       "                  id    token_count\n",
       "count  165923.000000  165923.000000\n",
       "mean    82962.000000     925.262483\n",
       "std     47897.988695     370.355070\n",
       "min         1.000000       3.000000\n",
       "25%     41481.500000     702.000000\n",
       "50%     82962.000000    1061.000000\n",
       "75%    124442.500000    1129.000000\n",
       "max    165923.000000    3199.000000"
      ]
     },
     "execution_count": 11,
     "metadata": {},
     "output_type": "execute_result"
    }
   ],
   "source": [
    "token_count_df.describe()"
   ]
  },
  {
   "cell_type": "code",
   "execution_count": 12,
   "metadata": {},
   "outputs": [],
   "source": [
    "token_count_df.to_csv(\"/home/ketkar/Public/Python_programs/DOE/src/dbo/files/CPA_DB_TOKEN_COUNT_DF.csv\")"
   ]
  },
  {
   "cell_type": "code",
   "execution_count": 10,
   "metadata": {},
   "outputs": [
    {
     "data": {
      "text/plain": [
       "32011"
      ]
     },
     "execution_count": 10,
     "metadata": {},
     "output_type": "execute_result"
    }
   ],
   "source": [
    "tokenizer.special_tokens_map\n",
    "tokenizer.vocab[\"[CLS]\"]"
   ]
  }
 ],
 "metadata": {
  "kernelspec": {
   "display_name": "env",
   "language": "python",
   "name": "python3"
  },
  "language_info": {
   "codemirror_mode": {
    "name": "ipython",
    "version": 3
   },
   "file_extension": ".py",
   "mimetype": "text/x-python",
   "name": "python",
   "nbconvert_exporter": "python",
   "pygments_lexer": "ipython3",
   "version": "3.11.6"
  },
  "orig_nbformat": 4
 },
 "nbformat": 4,
 "nbformat_minor": 2
}
