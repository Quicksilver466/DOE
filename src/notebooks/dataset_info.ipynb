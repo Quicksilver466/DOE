{
 "cells": [
  {
   "cell_type": "code",
   "execution_count": 22,
   "metadata": {},
   "outputs": [],
   "source": [
    "from datasets import load_from_disk\n",
    "from datasets import disable_caching\n",
    "from transformers import AutoModelForCausalLM, AutoTokenizer\n",
    "disable_caching()"
   ]
  },
  {
   "cell_type": "code",
   "execution_count": 24,
   "metadata": {},
   "outputs": [],
   "source": [
    "DATASETS_PATHS = {\n",
    "    \"m-a-p/CodeFeedback-Filtered-Instruction\": \"/data/Datasets-LLMS/CodeFeedback-Filtered-Instruction-Transformed\",\n",
    "    \"TIGER-Lab/MathInstruct\": \"/data/Datasets-LLMS/MathInstruct-Transformed\",\n",
    "    \"lavita/ChatDoctor-HealthCareMagic-100k\": \"/data/Datasets-LLMS/ChatDoctor-HealthCareMagic-100k-Transformed\",\n",
    "    \"fnlp/moss-002-sft-data\": \"/data/Datasets-LLMS/moss-002-sft-data-Transformed\"\n",
    "}"
   ]
  },
  {
   "cell_type": "code",
   "execution_count": 37,
   "metadata": {},
   "outputs": [
    {
     "name": "stderr",
     "output_type": "stream",
     "text": [
      "Special tokens have been added in the vocabulary, make sure the associated word embeddings are fine-tuned or trained.\n"
     ]
    },
    {
     "name": "stdout",
     "output_type": "stream",
     "text": [
      "156526\n"
     ]
    }
   ],
   "source": [
    "train = load_from_disk(\"/data/Datasets-LLMS/CodeFeedback-Filtered-Instruction-Transformed-phi3\")\n",
    "tokenizer = AutoTokenizer.from_pretrained(\"microsoft/Phi-3-mini-128k-instruct\")\n",
    "#print(len(train))\n",
    "#print(train[50][\"text\"])\n",
    "\n",
    "#input = tokenizer.apply_chat_template(train[0][\"text\"], add_generation_prompt=False)\n",
    "#print(len(input))"
   ]
  },
  {
   "cell_type": "code",
   "execution_count": 42,
   "metadata": {},
   "outputs": [
    {
     "name": "stderr",
     "output_type": "stream",
     "text": [
      "Map: 100%|██████████| 156526/156526 [02:30<00:00, 1042.87 examples/s]\n"
     ]
    },
    {
     "data": {
      "text/plain": [
       "Dataset({\n",
       "    features: ['text'],\n",
       "    num_rows: 156526\n",
       "})"
      ]
     },
     "execution_count": 42,
     "metadata": {},
     "output_type": "execute_result"
    }
   ],
   "source": [
    "MAX = 0\n",
    "MIN = 10000\n",
    "TOTAL = 0\n",
    "\n",
    "def token_counter(example):\n",
    "    global MIN, MAX, TOTAL\n",
    "    convo = example.get(\"text\")\n",
    "    tokens = tokenizer.apply_chat_template(convo)\n",
    "    MAX = max(MAX, len(tokens))\n",
    "    MIN = min(MIN, len(tokens))\n",
    "    TOTAL += len(tokens)\n",
    "    return example"
   ]
  },
  {
   "cell_type": "code",
   "execution_count": 43,
   "metadata": {},
   "outputs": [
    {
     "name": "stdout",
     "output_type": "stream",
     "text": [
      "55\n",
      "6957\n",
      "659.8113476355365\n"
     ]
    }
   ],
   "source": [
    "print(MIN)\n",
    "print(MAX)\n",
    "print(TOTAL/len(train))"
   ]
  }
 ],
 "metadata": {
  "kernelspec": {
   "display_name": "Python 3 (ipykernel)",
   "language": "python",
   "name": "python3"
  },
  "language_info": {
   "codemirror_mode": {
    "name": "ipython",
    "version": 3
   },
   "file_extension": ".py",
   "mimetype": "text/x-python",
   "name": "python",
   "nbconvert_exporter": "python",
   "pygments_lexer": "ipython3",
   "version": "3.11.6"
  }
 },
 "nbformat": 4,
 "nbformat_minor": 4
}
