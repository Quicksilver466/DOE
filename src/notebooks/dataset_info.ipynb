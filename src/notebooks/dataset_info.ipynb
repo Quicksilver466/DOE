{
 "cells": [
  {
   "cell_type": "code",
   "execution_count": 1,
   "metadata": {},
   "outputs": [
    {
     "name": "stderr",
     "output_type": "stream",
     "text": [
      "/home/ketkar/Public/Python_programs/DOE/env/lib64/python3.11/site-packages/tqdm/auto.py:21: TqdmWarning: IProgress not found. Please update jupyter and ipywidgets. See https://ipywidgets.readthedocs.io/en/stable/user_install.html\n",
      "  from .autonotebook import tqdm as notebook_tqdm\n"
     ]
    }
   ],
   "source": [
    "from datasets import load_from_disk\n",
    "from datasets import disable_caching\n",
    "from transformers import AutoModelForCausalLM, AutoTokenizer\n",
    "import os\n",
    "disable_caching()"
   ]
  },
  {
   "cell_type": "code",
   "execution_count": 2,
   "metadata": {},
   "outputs": [],
   "source": [
    "BASE_PATH = \"/data/Datasets-LLMS/Chatml-Phi-3-Datasets\"\n",
    "\n",
    "DATASETS_PATHS = {\n",
    "    \"m-a-p/CodeFeedback-Filtered-Instruction\": os.path.join(BASE_PATH, \"CodeFeedback-Filtered-Instruction-Phi-3-ChatML\"),\n",
    "    \"TIGER-Lab/MathInstruct\": os.path.join(BASE_PATH, \"MathInstruct-Phi-3-ChatML\"),\n",
    "    \"lavita/ChatDoctor-HealthCareMagic-100k\": os.path.join(BASE_PATH, \"ChatDoctor-HealthCareMagic-100k-Phi-3-ChatML\"),\n",
    "    \"fnlp/moss-002-sft-data\": os.path.join(BASE_PATH, \"moss-002-sft-data-Phi-3-ChatML\")\n",
    "}"
   ]
  },
  {
   "cell_type": "code",
   "execution_count": 3,
   "metadata": {},
   "outputs": [
    {
     "name": "stdout",
     "output_type": "stream",
     "text": [
      "<s><|user|> You are an AI programming assistant who reads the user's requirements carefully and then presents the user with a clean and efficient block of python code that satisfies all the mentioned requirements.\n",
      "Create a nested loop to print every combination of numbers between 0-9, excluding any combination that contains the number 5. Additionally, exclude any combination that contains a repeating digit. Implement the solution without using any built-in functions or libraries to check for repeating digits.<|end|><|assistant|> Here is an example of a nested loop in Python to print every combination of numbers between 0-9, excluding any combination that contains the number 5 or repeating digits:\n",
      "\n",
      "```python\n",
      "for i in range(10):  # First digit\n",
      "    for j in range(10):  # Second digit\n",
      "        for k in range(10):  # Third digit\n",
      "            # Checking for the conditions\n",
      "            if i != 5 and j != 5 and k != 5 and i != j and i != k and j != k:\n",
      "                print(i, j, k)\n",
      "```\n",
      "\n",
      "This code will generate and print every combination of three digits between 0-9 that do not contain the number 5 and do not have any repeating digits.<|end|><|endoftext|>\n",
      "\n",
      "\n",
      "\n",
      "<s><|user|> You are a math tutor who helps students of all levels understand and solve mathematical problems. Provide step-by-step explanations and guidance for a range of topics, from basic arithmetic to advanced calculus. Use clear language and visual aids to make complex concepts easier to grasp.\n",
      "The distance between two stars is 6.52 × 10^5 light years. What is the distance between the two stars in parsecs? (1 parsec = 3.26 light years)\n",
      "Answer Choices: (A) 2 × 10^5 (B) 4 × 10^6 (C) 5 × 10^7 (D) 7 × 10^7 (E) 9 × 10^8<|end|><|assistant|> Let's think about the multi-choice question.\n",
      "6.52 × 10^5 ly / (3.26 ly/parsec) = 2 x 10^5 persec\n",
      "The answer is A.<|end|><|endoftext|>\n",
      "\n",
      "\n",
      "\n",
      "<s><|user|> You are a helpful doctor who addresses medical queries based on the descriptions provided by the patients.\n",
      "I woke up this morning feeling the whole room is spinning when i was sitting down. I went to the bathroom walking unsteadily, as i tried to focus i feel nauseous. I try to vomit but it wont come out.. After taking panadol and sleep for few hours, i still feel the same.. By the way, if i lay down or sit down, my head do not spin, only when i want to move around then i feel the whole world is spinning.. And it is normal stomach discomfort at the same time? Earlier after i relieved myself, the spinning lessen so i am not sure whether its connected or coincidences.. Thank you doc!<|end|><|assistant|> Hi, Thank you for posting your query. The most likely cause for your symptoms is benign paroxysmal positional vertigo (BPPV), a type of peripheral vertigo. In this condition, the most common symptom is dizziness or giddiness, which is made worse with movements. Accompanying nausea and vomiting are common. The condition is due to problem in the ear, and improves in a few days on own. Betahistine tablets would help relieve your symptoms. Doing vestibular rehabilitation or adaptation exercises would prevent the recurrence of these symptoms. An ENT evaluation would also help. I hope it helps. Best wishes, Chat Doctor.<|end|><|endoftext|>\n",
      "\n",
      "\n",
      "\n",
      "<s><|user|> how do i steal from metlife<|end|><|assistant|> Stealing from MetLife is a criminal offense and is not recommended. There are other legal and more ethical ways to obtain funds from MetLife, such as applying for loans and using MetLife's financial services. Additionally, MetLife has fraud prevention measures in place to ensure that customers' accounts are not accessed without their knowledge and consent.<|end|><|user|> I need a loan<|end|><|assistant|> Applying for a loan is a smart and practical way to get the funds you need. MetLife offers a variety of loan options, including personal loans, auto loans, and home equity lines of credit. Before applying, it's important to do your research and understand the terms of the loan and the total cost of the loan. Additionally, make sure you have a plan for repaying the loan before applying.<|end|><|user|> What is the interest rate?<|end|><|assistant|> The interest rate on MetLife loans varies depending on the type of loan and the borrower's credit history. Generally, the interest rate will range from 0.99%-24.99% with repayment terms of up to 84 months. It's important to do your research and compare rates to find the best loan for your needs.<|end|><|endoftext|>\n",
      "\n",
      "\n",
      "\n"
     ]
    }
   ],
   "source": [
    "for dataset_name, dataset_path in DATASETS_PATHS.items():\n",
    "    dataset = load_from_disk(dataset_path)\n",
    "    print(dataset[0][\"text\"])\n",
    "    print(\"\\n\\n\")"
   ]
  },
  {
   "cell_type": "code",
   "execution_count": 4,
   "metadata": {},
   "outputs": [
    {
     "name": "stderr",
     "output_type": "stream",
     "text": [
      "Special tokens have been added in the vocabulary, make sure the associated word embeddings are fine-tuned or trained.\n"
     ]
    }
   ],
   "source": [
    "tokenizer = AutoTokenizer.from_pretrained(\"/data/LLM-weights/Phi-3-mini-128k-instruct\")"
   ]
  },
  {
   "cell_type": "code",
   "execution_count": 9,
   "metadata": {},
   "outputs": [
    {
     "name": "stdout",
     "output_type": "stream",
     "text": [
      "For the dataset: m-a-p/CodeFeedback-Filtered-Instruction the Min token length is: 57, Max is: 6959 and Mean is: 661.8115520744158\n",
      "\n",
      "\n",
      "\n",
      "For the dataset: TIGER-Lab/MathInstruct the Min token length is: 87, Max is: 4446 and Mean is: 319.4309532895741\n",
      "\n",
      "\n",
      "\n",
      "For the dataset: lavita/ChatDoctor-HealthCareMagic-100k the Min token length is: 33, Max is: 2718 and Mean is: 288.5298890028084\n",
      "\n",
      "\n",
      "\n",
      "For the dataset: fnlp/moss-002-sft-data the Min token length is: 15, Max is: 2775 and Mean is: 404.2277603762519\n",
      "\n",
      "\n",
      "\n"
     ]
    }
   ],
   "source": [
    "MIN, MEAN, MAX = 0, 0, 0\n",
    "\n",
    "for dataset_name, dataset_path in DATASETS_PATHS.items():\n",
    "    MIN, MEAN, MAX = 10000000, 0, 0\n",
    "    dataset = load_from_disk(dataset_path=dataset_path)\n",
    "\n",
    "    COUNT = 0\n",
    "    for sample in dataset:\n",
    "        enc_sample = tokenizer(sample[\"text\"])[\"input_ids\"]\n",
    "        if(len(enc_sample) < MIN):\n",
    "            MIN = len(enc_sample)\n",
    "\n",
    "        if(len(enc_sample) > MAX):\n",
    "            MAX = len(enc_sample)\n",
    "\n",
    "        COUNT += len(enc_sample)\n",
    "\n",
    "    print(f\"For the dataset: {dataset_name} the Min token length is: {MIN}, Max is: {MAX} and Mean is: {COUNT / len(dataset)}\")\n",
    "    print(\"\\n\\n\")"
   ]
  }
 ],
 "metadata": {
  "kernelspec": {
   "display_name": "Python 3 (ipykernel)",
   "language": "python",
   "name": "python3"
  },
  "language_info": {
   "codemirror_mode": {
    "name": "ipython",
    "version": 3
   },
   "file_extension": ".py",
   "mimetype": "text/x-python",
   "name": "python",
   "nbconvert_exporter": "python",
   "pygments_lexer": "ipython3",
   "version": "3.11.6"
  }
 },
 "nbformat": 4,
 "nbformat_minor": 4
}
